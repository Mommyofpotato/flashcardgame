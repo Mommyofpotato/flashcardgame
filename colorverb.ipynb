{
 "cells": [
  {
   "cell_type": "code",
   "execution_count": 11,
   "id": "ffa73347",
   "metadata": {},
   "outputs": [],
   "source": [
    "from tkinter import *\n",
    "import random\n",
    "import pandas as pd\n",
    "BACKGROUND_COLOR = \"#fae8e0\""
   ]
  },
  {
   "cell_type": "code",
   "execution_count": 12,
   "id": "a769b2c2",
   "metadata": {},
   "outputs": [
    {
     "name": "stdout",
     "output_type": "stream",
     "text": [
      "[{'words': 'apple'}, {'words': 'banana'}, {'words': 'chair'}, {'words': 'cat'}, {'words': 'dog'}, {'words': 'monkey'}, {'words': 'ear buds'}, {'words': 'pillow'}]\n"
     ]
    }
   ],
   "source": [
    "to_display={}\n",
    "current_card={}\n",
    "data = pd.read_csv(\"./words.csv\")\n",
    "word_dict = {row.words for (index, row) in data.iterrows()}\n",
    "word_dict = data.to_dict(orient=\"records\")\n",
    "to_display=word_dict\n",
    "print(to_display)"
   ]
  },
  {
   "cell_type": "code",
   "execution_count": 13,
   "id": "487cb2dd",
   "metadata": {},
   "outputs": [],
   "source": [
    "def next_card():\n",
    "    global current_card\n",
    "    current_card = random.choice(to_display)\n",
    "    # french_word = random_pair['French']\n",
    "    canvas.itemconfig(card_title, text=\"Use only colors \\n and \\n verbs to describe\", fill=\"black\")\n",
    "    canvas.itemconfig(card_word, text=current_card[\"words\"], fill=\"black\")\n",
    "    canvas.itemconfig(card_background, image=card_front_img)\n",
    "    \n",
    "\n",
    "def is_known():\n",
    "    to_display.remove(current_card)\n",
    "    print(len(to_display))\n",
    "    data = pd.DataFrame(to_display)\n",
    "    data.to_csv(\"data/words_to_learn.csv\", index=False)\n",
    "    # index = false discrads the index numbers\n",
    "    score=score+1\n",
    "    next_card()"
   ]
  },
  {
   "cell_type": "code",
   "execution_count": 14,
   "id": "4b3840d7",
   "metadata": {},
   "outputs": [],
   "source": [
    "window = Tk()\n",
    "window.title(\"Color-Verb\")\n",
    "window.config(padx=50, pady=50, bg=BACKGROUND_COLOR)\n",
    "\n",
    "\n",
    "canvas = Canvas(width=800, height=526)\n",
    "card_front_img = PhotoImage(file=\"./card_front.png\")\n",
    "#card_back_img = PhotoImage(file=\"./images/card_back.png\")\n",
    "card_background = canvas.create_image(400, 263, image=card_front_img)\n",
    "card_title = canvas.create_text(400, 150, text=\"Title\", font=(\"Ariel\", 40, \"italic\"))\n",
    "# Positions are related to canvas so 400 will be halfway in width\n",
    "canvas.config(bg=BACKGROUND_COLOR, highlightthickness=0)\n",
    "card_word = canvas.create_text(400, 263, text=\"Word\", font=(\"Ariel\", 60, \"bold\"), tags=\"word\")\n",
    "# canvas should go in the middle\n",
    "canvas.grid(row=0, column=0, columnspan=2)\n",
    "\n",
    "cross_image = PhotoImage(file=\"./arrow.png\")\n",
    "unknown_button = Button(image=cross_image, command = next_card)\n",
    "unknown_button.grid(row=1, column=0, sticky=\"W\")\n",
    "\n",
    "\n",
    "next_card()\n",
    "window.mainloop()"
   ]
  },
  {
   "cell_type": "code",
   "execution_count": null,
   "id": "b0f2dd14",
   "metadata": {},
   "outputs": [],
   "source": []
  },
  {
   "cell_type": "code",
   "execution_count": null,
   "id": "cd94c9d9",
   "metadata": {},
   "outputs": [],
   "source": []
  },
  {
   "cell_type": "code",
   "execution_count": null,
   "id": "9b509fd7",
   "metadata": {},
   "outputs": [],
   "source": []
  }
 ],
 "metadata": {
  "kernelspec": {
   "display_name": "Python 3 (ipykernel)",
   "language": "python",
   "name": "python3"
  },
  "language_info": {
   "codemirror_mode": {
    "name": "ipython",
    "version": 3
   },
   "file_extension": ".py",
   "mimetype": "text/x-python",
   "name": "python",
   "nbconvert_exporter": "python",
   "pygments_lexer": "ipython3",
   "version": "3.10.9"
  }
 },
 "nbformat": 4,
 "nbformat_minor": 5
}
